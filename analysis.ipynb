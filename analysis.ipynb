{
 "cells": [
  {
   "cell_type": "markdown",
   "id": "cf4292b2",
   "metadata": {},
   "source": [
    "# Index\n",
    "<hr>"
   ]
  },
  {
   "cell_type": "markdown",
   "id": "21847c9c",
   "metadata": {},
   "source": []
  },
  {
   "cell_type": "markdown",
   "id": "78574777",
   "metadata": {},
   "source": [
    "# 1.- Load data\n",
    "<hr>"
   ]
  },
  {
   "cell_type": "markdown",
   "id": "cf9a0155",
   "metadata": {},
   "source": [
    "<div align=center>\n",
    "    <img src=\"Bombardino.jpg\" alt=\"Barra\" width=\"600\" height=\"300\" class>\n",
    "</div>\n"
   ]
  },
  {
   "cell_type": "code",
   "execution_count": 1,
   "id": "7dff4d23",
   "metadata": {},
   "outputs": [],
   "source": [
    "import pandas as pd"
   ]
  },
  {
   "cell_type": "code",
   "execution_count": null,
   "id": "208a3f0d",
   "metadata": {},
   "outputs": [],
   "source": []
  }
 ],
 "metadata": {
  "kernelspec": {
   "display_name": "Python 3",
   "language": "python",
   "name": "python3"
  },
  "language_info": {
   "codemirror_mode": {
    "name": "ipython",
    "version": 3
   },
   "file_extension": ".py",
   "mimetype": "text/x-python",
   "name": "python",
   "nbconvert_exporter": "python",
   "pygments_lexer": "ipython3",
   "version": "3.11.0"
  }
 },
 "nbformat": 4,
 "nbformat_minor": 5
}
